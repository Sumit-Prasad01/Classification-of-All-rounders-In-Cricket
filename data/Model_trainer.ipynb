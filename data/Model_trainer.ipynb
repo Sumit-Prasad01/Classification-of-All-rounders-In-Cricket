{
 "cells": [
  {
   "cell_type": "code",
   "execution_count": 12,
   "id": "48b24e18",
   "metadata": {},
   "outputs": [],
   "source": [
    "import pandas as pd\n",
    "import numpy as np\n",
    "from sklearn.preprocessing import LabelEncoder, StandardScaler\n",
    "from sklearn.model_selection import train_test_split\n",
    "from sklearn.metrics import accuracy_score\n",
    "from sklearn.linear_model import LogisticRegression\n",
    "from sklearn.neighbors import KNeighborsClassifier\n",
    "from sklearn.svm import SVC\n",
    "from sklearn.tree import DecisionTreeClassifier\n",
    "from sklearn.ensemble import RandomForestClassifier, GradientBoostingClassifier\n",
    "from sklearn.naive_bayes import GaussianNB\n",
    "from xgboost import XGBClassifier\n",
    "import warnings\n",
    "warnings.filterwarnings(\"ignore\")"
   ]
  },
  {
   "cell_type": "code",
   "execution_count": 2,
   "id": "6a895ba6",
   "metadata": {},
   "outputs": [],
   "source": [
    "df = pd.read_csv(\"Cleaned_Data.csv\") "
   ]
  },
  {
   "cell_type": "code",
   "execution_count": 3,
   "id": "c6518fe8",
   "metadata": {},
   "outputs": [],
   "source": [
    "df.replace(['', '-', ' '], np.nan, inplace=True)\n",
    "df.fillna(0, inplace=True)"
   ]
  },
  {
   "cell_type": "code",
   "execution_count": 4,
   "id": "9c13116d",
   "metadata": {},
   "outputs": [],
   "source": [
    "numeric_cols = ['Mat', 'Runs', 'HS', 'Batting Ave', '100', 'Wkts', 'Bowling Ave', '5', 'Ct']\n",
    "df[numeric_cols] = df[numeric_cols].apply(pd.to_numeric, errors='coerce')\n",
    "df.fillna(0, inplace=True)"
   ]
  },
  {
   "cell_type": "code",
   "execution_count": 5,
   "id": "a6afb123",
   "metadata": {},
   "outputs": [],
   "source": [
    "df['Runs_per_Match'] = df['Runs'] / (df['Mat'] + 1e-5)\n",
    "df['Wkts_per_Match'] = df['Wkts'] / (df['Mat'] + 1e-5)\n",
    "df['Batting_Impact'] = df['Batting Ave'] * df['100']\n",
    "df['Bowling_Impact'] = df['Wkts'] / (df['Bowling Ave'] + 1e-5)\n",
    "df['Allrounder_Score'] = df['Batting_Impact'] + df['Bowling_Impact']\n",
    "df['HS_ratio'] = df['HS'] / (df['Runs'] + 1e-5)\n",
    "df['Ct_per_Match'] = df['Ct'] / (df['Mat'] + 1e-5)"
   ]
  },
  {
   "cell_type": "code",
   "execution_count": 6,
   "id": "218a846d",
   "metadata": {},
   "outputs": [],
   "source": [
    "features = [\n",
    "    'Mat', 'Runs', 'HS', 'Batting Ave', '100', 'Wkts', 'Bowling Ave', '5', 'Ct',\n",
    "    'Runs_per_Match', 'Wkts_per_Match', 'Batting_Impact', 'Bowling_Impact',\n",
    "    'Allrounder_Score', 'HS_ratio', 'Ct_per_Match'\n",
    "]\n",
    "\n",
    "X = df[features].copy()"
   ]
  },
  {
   "cell_type": "code",
   "execution_count": 7,
   "id": "c7b6a86e",
   "metadata": {},
   "outputs": [],
   "source": [
    "le_category = LabelEncoder()\n",
    "df['Category_encoded'] = le_category.fit_transform(df['Category'])"
   ]
  },
  {
   "cell_type": "code",
   "execution_count": 8,
   "id": "00b18860",
   "metadata": {},
   "outputs": [],
   "source": [
    "X_train, X_test, y_train, y_test = train_test_split(\n",
    "    X, df['Category_encoded'], test_size=0.2, random_state=42, stratify=df['Category_encoded']\n",
    ")"
   ]
  },
  {
   "cell_type": "code",
   "execution_count": 9,
   "id": "4a107857",
   "metadata": {},
   "outputs": [],
   "source": [
    "scaler = StandardScaler()\n",
    "X_train_scaled = scaler.fit_transform(X_train)\n",
    "X_test_scaled = scaler.transform(X_test)\n"
   ]
  },
  {
   "cell_type": "code",
   "execution_count": 13,
   "id": "e37c17c2",
   "metadata": {},
   "outputs": [],
   "source": [
    "models = {\n",
    "    \"Logistic Regression\": LogisticRegression(max_iter=1000),\n",
    "    \"K-Nearest Neighbors\": KNeighborsClassifier(),\n",
    "    \"SVM\": SVC(),\n",
    "    \"Decision Tree\": DecisionTreeClassifier(),\n",
    "    \"Random Forest\": RandomForestClassifier(),\n",
    "    \"Naive Bayes\": GaussianNB(),\n",
    "    \"Gradient Boosting\": GradientBoostingClassifier(),\n",
    "    \"XGBoost\": XGBClassifier(use_label_encoder=False, eval_metric='mlogloss',\n",
    "                             objective='multi:softmax', num_class=len(np.unique(y_train)))\n",
    "}"
   ]
  },
  {
   "cell_type": "code",
   "execution_count": 14,
   "id": "297e000c",
   "metadata": {},
   "outputs": [
    {
     "name": "stdout",
     "output_type": "stream",
     "text": [
      "=== 🔍 Model Benchmark: Category Prediction ===\n",
      "Logistic Regression       ➤ Accuracy: 0.6429\n",
      "K-Nearest Neighbors       ➤ Accuracy: 0.7857\n",
      "SVM                       ➤ Accuracy: 0.6429\n",
      "Decision Tree             ➤ Accuracy: 0.8571\n",
      "Random Forest             ➤ Accuracy: 0.9286\n",
      "Naive Bayes               ➤ Accuracy: 0.7143\n",
      "Gradient Boosting         ➤ Accuracy: 0.7143\n",
      "XGBoost                   ➤ Accuracy: 0.8571\n"
     ]
    }
   ],
   "source": [
    "print(\"=== 🔍 Model Benchmark: Category Prediction ===\")\n",
    "results = []\n",
    "for name, model in models.items():\n",
    "    try:\n",
    "        model.fit(X_train_scaled, y_train)\n",
    "        preds = model.predict(X_test_scaled)\n",
    "        acc = accuracy_score(y_test, preds)\n",
    "        results.append((name, acc))\n",
    "        print(f\"{name:25s} ➤ Accuracy: {acc:.4f}\")\n",
    "    except Exception as e:\n",
    "        print(f\"{name:25s} ➤ ❌ Error: {e}\")"
   ]
  },
  {
   "cell_type": "code",
   "execution_count": 15,
   "id": "8bfa3c8c",
   "metadata": {},
   "outputs": [
    {
     "name": "stdout",
     "output_type": "stream",
     "text": [
      "\n",
      "✅ Best Model: Random Forest with Accuracy = 0.9286\n"
     ]
    }
   ],
   "source": [
    "best_model = max(results, key=lambda x: x[1])\n",
    "print(f\"\\n✅ Best Model: {best_model[0]} with Accuracy = {best_model[1]:.4f}\")"
   ]
  },
  {
   "cell_type": "code",
   "execution_count": 16,
   "id": "b55851cc",
   "metadata": {},
   "outputs": [],
   "source": [
    "import pickle"
   ]
  },
  {
   "cell_type": "code",
   "execution_count": 17,
   "id": "f3fe0cfd",
   "metadata": {},
   "outputs": [
    {
     "name": "stdout",
     "output_type": "stream",
     "text": [
      "\n",
      "✅ Saved 'Random Forest' model to file: random_forest_model.pkl\n"
     ]
    }
   ],
   "source": [
    "best_model_name = best_model[0]\n",
    "best_model_object = models[best_model_name]\n",
    "\n",
    "# Save to a pickle file\n",
    "with open(f\"{best_model_name.replace(' ', '_').lower()}_model.pkl\", \"wb\") as file:\n",
    "    pickle.dump(best_model_object, file)\n",
    "\n",
    "print(f\"\\n✅ Saved '{best_model_name}' model to file: {best_model_name.replace(' ', '_').lower()}_model.pkl\")"
   ]
  }
 ],
 "metadata": {
  "kernelspec": {
   "display_name": "myenv",
   "language": "python",
   "name": "python3"
  },
  "language_info": {
   "codemirror_mode": {
    "name": "ipython",
    "version": 3
   },
   "file_extension": ".py",
   "mimetype": "text/x-python",
   "name": "python",
   "nbconvert_exporter": "python",
   "pygments_lexer": "ipython3",
   "version": "3.12.8"
  }
 },
 "nbformat": 4,
 "nbformat_minor": 5
}
